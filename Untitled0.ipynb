{
  "nbformat": 4,
  "nbformat_minor": 0,
  "metadata": {
    "colab": {
      "name": "Untitled0.ipynb",
      "provenance": [],
      "include_colab_link": true
    },
    "kernelspec": {
      "name": "python3",
      "display_name": "Python 3"
    }
  },
  "cells": [
    {
      "cell_type": "markdown",
      "metadata": {
        "id": "view-in-github",
        "colab_type": "text"
      },
      "source": [
        "<a href=\"https://colab.research.google.com/github/juancarlosgeo16/calse-de-r/blob/master/Untitled0.ipynb\" target=\"_parent\"><img src=\"https://colab.research.google.com/assets/colab-badge.svg\" alt=\"Open In Colab\"/></a>"
      ]
    },
    {
      "cell_type": "code",
      "metadata": {
        "id": "rCmaDlzjfJ6Y",
        "colab_type": "code",
        "outputId": "0e304ed1-a59f-41a8-d794-8a8c03ed4937",
        "colab": {
          "base_uri": "https://localhost:8080/",
          "height": 101
        }
      },
      "source": [
        "x = 5\n",
        "while x > 0:\n",
        "  x = x-1\n",
        "  print (\"hola\")\n",
        "  "
      ],
      "execution_count": 0,
      "outputs": [
        {
          "output_type": "stream",
          "text": [
            "hola\n",
            "hola\n",
            "hola\n",
            "hola\n",
            "hola\n"
          ],
          "name": "stdout"
        }
      ]
    },
    {
      "cell_type": "code",
      "metadata": {
        "id": "_nnPwn48f4wC",
        "colab_type": "code",
        "outputId": "31a51086-ca89-4a46-c2bb-1f524f2b3eb8",
        "colab": {
          "base_uri": "https://localhost:8080/",
          "height": 218
        }
      },
      "source": [
        "n = 10\n",
        "\n",
        "suma = 0\n",
        "i = 1\n",
        "\n",
        "while i <= n:\n",
        "  suma = suma + i\n",
        "  i = i+1\n",
        "  print (suma)\n",
        "print (\"-\"*20)\n",
        "print (\"sum =\", suma)\n"
      ],
      "execution_count": 0,
      "outputs": [
        {
          "output_type": "stream",
          "text": [
            "1\n",
            "3\n",
            "6\n",
            "10\n",
            "15\n",
            "21\n",
            "28\n",
            "36\n",
            "45\n",
            "55\n",
            "--------------------\n",
            "sum = 55\n"
          ],
          "name": "stdout"
        }
      ]
    },
    {
      "cell_type": "code",
      "metadata": {
        "id": "-CbX1IjthuyI",
        "colab_type": "code",
        "outputId": "7b6e5f01-5ccd-4cbb-b4a9-67b02ca611fb",
        "colab": {
          "base_uri": "https://localhost:8080/",
          "height": 84
        }
      },
      "source": [
        "name = 'temp'\n",
        "varName = []\n",
        "while name != 'wind':\n",
        "    name = input('Agregar variable: ')\n",
        "    varName.append(name)\n",
        "    \n",
        "print(varName)"
      ],
      "execution_count": 0,
      "outputs": [
        {
          "output_type": "stream",
          "text": [
            "Agregar variable: a\n",
            "Agregar variable: b\n",
            "Agregar variable: wind\n",
            "['a', 'b', 'wind']\n"
          ],
          "name": "stdout"
        }
      ]
    },
    {
      "cell_type": "code",
      "metadata": {
        "id": "ccK4LxSRhwCw",
        "colab_type": "code",
        "colab": {}
      },
      "source": [
        "while True:\n",
        "    name = input(\"Usuario: \")\n",
        "    if name != 'Roy':\n",
        "        print(\"Este usuario no exite!!!, intentelo nuevamente...\")\n",
        "        continue #para que pases al siguiente \n",
        "    \n",
        "    passwd = input('contraseña: ')\n",
        "    if passwd == 'python3':\n",
        "        break #corta el interfas del codigo\n",
        "print('Acceso concedido')"
      ],
      "execution_count": 0,
      "outputs": []
    },
    {
      "cell_type": "code",
      "metadata": {
        "id": "K0DZxzX9j2di",
        "colab_type": "code",
        "colab": {}
      },
      "source": [
        "CC = [-20, -15, -10, -5, 0, 5, 10, 15, 20, 25, 30, 35, 40]\n",
        "i = 0\n",
        "print('  C    K     F')\n",
        "print(\"-\"*20)\n",
        "\n",
        "while i < len(CC):\n",
        "    C = CC[i]\n",
        "    K = CC[i] + 273\n",
        "    F = (9.0/5)*C + 32\n",
        "    print('%3d %5d %5.1f' %(C, K, F))\n",
        "    i += 1 # es igual que i = i + 1\n"
      ],
      "execution_count": 0,
      "outputs": []
    },
    {
      "cell_type": "code",
      "metadata": {
        "id": "_dk5h5JYmoW8",
        "colab_type": "code",
        "outputId": "a9c219bd-b9b1-482e-b11a-69a31b087011",
        "colab": {
          "base_uri": "https://localhost:8080/",
          "height": 34
        }
      },
      "source": [
        "def suma(a,b):\n",
        "  s = a+b\n",
        "  return s\n",
        "v = suma(2,3)\n",
        "v"
      ],
      "execution_count": 0,
      "outputs": [
        {
          "output_type": "execute_result",
          "data": {
            "text/plain": [
              "5"
            ]
          },
          "metadata": {
            "tags": []
          },
          "execution_count": 10
        }
      ]
    },
    {
      "cell_type": "code",
      "metadata": {
        "id": "88tarr_-nhpX",
        "colab_type": "code",
        "outputId": "86470e70-a090-40a4-fc8a-831855308484",
        "colab": {
          "base_uri": "https://localhost:8080/",
          "height": 34
        }
      },
      "source": [
        "def area_triangulo(b,h):\n",
        "  A = b*h /2\n",
        "  return A\n",
        "\n",
        "area_triangulo (2,3)"
      ],
      "execution_count": 0,
      "outputs": [
        {
          "output_type": "execute_result",
          "data": {
            "text/plain": [
              "3.0"
            ]
          },
          "metadata": {
            "tags": []
          },
          "execution_count": 13
        }
      ]
    },
    {
      "cell_type": "code",
      "metadata": {
        "id": "iRnazYbRoArn",
        "colab_type": "code",
        "outputId": "ae411875-04d9-4fa5-d4c7-00d49afb3ecb",
        "colab": {
          "base_uri": "https://localhost:8080/",
          "height": 34
        }
      },
      "source": [
        "#os, sys, math, jsin, request\n",
        "# para llamar una libreria \n",
        "import os\n",
        "#funcion de os .mkdir(\"carperta nueva\")\n",
        "#para ver que funciones tenga\n",
        "dir(os)\n",
        "import math\n",
        "dir (math)\n",
        "math.pi\n"
      ],
      "execution_count": 0,
      "outputs": [
        {
          "output_type": "execute_result",
          "data": {
            "text/plain": [
              "3.141592653589793"
            ]
          },
          "metadata": {
            "tags": []
          },
          "execution_count": 27
        }
      ]
    },
    {
      "cell_type": "code",
      "metadata": {
        "id": "H7XTA46Fr8og",
        "colab_type": "code",
        "outputId": "673f1883-0707-4b2a-fd26-697a023804c4",
        "colab": {
          "base_uri": "https://localhost:8080/",
          "height": 34
        }
      },
      "source": [
        "def area_circulo(r):\n",
        "  area = math.pi*(r**2)\n",
        "  return area\n",
        "area_circulo(2)\n"
      ],
      "execution_count": 0,
      "outputs": [
        {
          "output_type": "execute_result",
          "data": {
            "text/plain": [
              "12.566370614359172"
            ]
          },
          "metadata": {
            "tags": []
          },
          "execution_count": 29
        }
      ]
    },
    {
      "cell_type": "code",
      "metadata": {
        "id": "PNVuD1b2s18-",
        "colab_type": "code",
        "outputId": "698a99c4-432a-43fe-a2d3-c4adb8b2be3f",
        "colab": {
          "base_uri": "https://localhost:8080/",
          "height": 50
        }
      },
      "source": [
        "lista = [12,13,15,16,9,20,14]\n",
        "print (\"media aritmetica\",\",media geometrica\")\n",
        "def notas(i):\n",
        "  M_aritmetica = sum (i)/len(i)\n",
        "  a = 1\n",
        "  for n in lista:\n",
        "    a = a*n\n",
        "  M_geometrica = math.pow(n,1/len(i))\n",
        "  return M_aritmetica, M_geometrica\n",
        "notas(lista)"
      ],
      "execution_count": 0,
      "outputs": [
        {
          "output_type": "stream",
          "text": [
            "media aritmetica ,media geometrica\n"
          ],
          "name": "stdout"
        },
        {
          "output_type": "execute_result",
          "data": {
            "text/plain": [
              "(14.142857142857142, 1.4579162495762834)"
            ]
          },
          "metadata": {
            "tags": []
          },
          "execution_count": 50
        }
      ]
    },
    {
      "cell_type": "code",
      "metadata": {
        "id": "y58AXeDFrnGg",
        "colab_type": "code",
        "outputId": "512cf870-a6cb-4261-dcf6-07224bfafe16",
        "colab": {
          "base_uri": "https://localhost:8080/",
          "height": 924
        }
      },
      "source": [
        "math.pow()"
      ],
      "execution_count": 0,
      "outputs": [
        {
          "output_type": "execute_result",
          "data": {
            "text/plain": [
              "['__doc__',\n",
              " '__loader__',\n",
              " '__name__',\n",
              " '__package__',\n",
              " '__spec__',\n",
              " 'acos',\n",
              " 'acosh',\n",
              " 'asin',\n",
              " 'asinh',\n",
              " 'atan',\n",
              " 'atan2',\n",
              " 'atanh',\n",
              " 'ceil',\n",
              " 'copysign',\n",
              " 'cos',\n",
              " 'cosh',\n",
              " 'degrees',\n",
              " 'e',\n",
              " 'erf',\n",
              " 'erfc',\n",
              " 'exp',\n",
              " 'expm1',\n",
              " 'fabs',\n",
              " 'factorial',\n",
              " 'floor',\n",
              " 'fmod',\n",
              " 'frexp',\n",
              " 'fsum',\n",
              " 'gamma',\n",
              " 'gcd',\n",
              " 'hypot',\n",
              " 'inf',\n",
              " 'isclose',\n",
              " 'isfinite',\n",
              " 'isinf',\n",
              " 'isnan',\n",
              " 'ldexp',\n",
              " 'lgamma',\n",
              " 'log',\n",
              " 'log10',\n",
              " 'log1p',\n",
              " 'log2',\n",
              " 'modf',\n",
              " 'nan',\n",
              " 'pi',\n",
              " 'pow',\n",
              " 'radians',\n",
              " 'sin',\n",
              " 'sinh',\n",
              " 'sqrt',\n",
              " 'tan',\n",
              " 'tanh',\n",
              " 'tau',\n",
              " 'trunc']"
            ]
          },
          "metadata": {
            "tags": []
          },
          "execution_count": 45
        }
      ]
    }
  ]
}